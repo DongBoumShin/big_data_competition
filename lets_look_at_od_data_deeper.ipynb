{
  "nbformat": 4,
  "nbformat_minor": 0,
  "metadata": {
    "colab": {
      "provenance": []
    },
    "kernelspec": {
      "name": "python3",
      "display_name": "Python 3"
    },
    "language_info": {
      "name": "python"
    }
  },
  "cells": [
    {
      "cell_type": "code",
      "execution_count": 99,
      "metadata": {
        "id": "HO5RxArcET02"
      },
      "outputs": [],
      "source": [
        "import json\n",
        "import numpy as np\n",
        "import matplotlib.pyplot as plt\n",
        "import geopandas as gpd\n",
        "import pandas as pd\n",
        "from shapely.geometry import LineString\n",
        "import os\n",
        "\n",
        "if not os.path.exists('mined_data'):\n",
        "    os.mkdir('mined_data')\n",
        "if not os.path.exists('raw_data'):\n",
        "    os.mkdir('raw_data')"
      ]
    },
    {
      "cell_type": "code",
      "source": [
        "given_keys = pd.read_csv('geoshp/KIKmix_20230701.csv')\n",
        "given_keys.set_index('법정동코드', inplace=True)\n",
        "folder_path = 'raw_data'\n",
        "DFS = {}\n",
        "for folder in os.listdir(folder_path):\n",
        "    if not os.path.isdir(os.path.join(folder_path, folder)):\n",
        "        continue\n",
        "    temp_path = os.path.join(folder_path, folder)\n",
        "    for filename in os.listdir(temp_path):\n",
        "        if filename.endswith(\".csv\"):\n",
        "            filepath = os.path.join(temp_path, filename)\n",
        "            df_name = os.path.splitext(filename)[0]  # Remove file extension\n",
        "            DFS[df_name] = pd.read_csv(filepath)\n",
        "            print(df_name)"
      ],
      "metadata": {
        "colab": {
          "base_uri": "https://localhost:8080/"
        },
        "id": "FTEJYh8pEixD",
        "outputId": "0af2b493-ed55-4bca-f9cb-1949aadd2413"
      },
      "execution_count": 4,
      "outputs": [
        {
          "output_type": "stream",
          "name": "stdout",
          "text": [
            "od_20230926_1\n",
            "od_20230924_1\n",
            "od_20230929_1\n",
            "od_20230928_1\n",
            "od_20230921_1\n",
            "od_20230927_1\n",
            "od_20230930_1\n",
            "od_20230925_1\n",
            "od_20230923_1\n",
            "od_20230922_1\n",
            "od_20230914_1\n",
            "od_20230916_1\n",
            "od_20230918_1\n",
            "od_20230915_1\n",
            "od_20230919_1\n",
            "od_20230913_1\n",
            "od_20230911_1\n",
            "od_20230912_1\n",
            "od_20230920_1\n",
            "od_20230917_1\n"
          ]
        }
      ]
    },
    {
      "cell_type": "code",
      "source": [
        "# 검색기 함수\n",
        "# area: 시도명_시군구명_읍면동명_동리명 : 끝까지 안 채워도 됨\n",
        "# 예: 서울특별시_종로구_청운효자동_청운동: O\n",
        "# 예: 서울특별시: O\n",
        "# 예: 서울특별시_종로구_청운동: X\n",
        "# date: MMDD 4개 숫자 붙여서 문자열 숫자 1개여도 리스트로 전달.\n",
        "# keywords = ori_only, dest_only, start_time, end_time, gender: 동일\n",
        "# age, modal, origin_purpose, dest_purpose, od_dist_avg, : 범위(리스트, range)\n",
        "# od_duration_avg, od_cnts : 범위(list, range)\n",
        "\n",
        "\n",
        "def searcher(**kwargs):\n",
        "    target_dfs = []\n",
        "    target_codes = None\n",
        "    rt_df = pd.DataFrame()\n",
        "    if not kwargs:\n",
        "        print(\"No arguments provided\")\n",
        "        return target_dfs\n",
        "    if kwargs.get('area'):\n",
        "        parsed = kwargs['area'].split('_')\n",
        "        if parsed[2].endswith('구'):\n",
        "            parsed[1] = ' '.join([parsed[1], parsed[2]])\n",
        "            parsed.pop(2)\n",
        "        tempdf = given_keys.reset_index()\n",
        "        for item in parsed:\n",
        "            tempdf = tempdf[tempdf.eq(item).any(axis=1)]\n",
        "        target_codes = tempdf['법정동코드'].values.tolist()\n",
        "        target_codes = set(target_codes)\n",
        "        target_codes.update(tempdf['행정동코드'].values.tolist())\n",
        "    if kwargs.get('date'):\n",
        "        for date in kwargs['date']:\n",
        "            target_dfs.append(DFS['od_2023'+date+'_1'])\n",
        "    else:\n",
        "        target_dfs = DFS.values()\n",
        "    for item in target_dfs:\n",
        "        if target_codes:\n",
        "            if kwargs.get('ori_only'):\n",
        "                query = item['origin_hdong_cd'].isin(target_codes)\n",
        "            elif kwargs.get('dest_only'):\n",
        "                query = item['dest_hdong_cd'].isin(target_codes)\n",
        "            else:\n",
        "                query = item['origin_hdong_cd'].isin(target_codes)|item['dest_hdong_cd'].isin(target_codes)\n",
        "            temp = item[query]\n",
        "            rt_df = pd.concat([rt_df, temp])\n",
        "        else:\n",
        "            rt_df = pd.concat([rt_df, item])\n",
        "    if kwargs.get('start_time'):\n",
        "        rt_df = rt_df[rt_df['start_time'].str.startswith(kwargs['start_time'])]\n",
        "    if kwargs.get('end_time'):\n",
        "        rt_df = rt_df[rt_df['end_time'].str.startswith(kwargs['end_time'])]\n",
        "    if kwargs.get('gender'):\n",
        "        rt_df = rt_df[rt_df['gender'] == kwargs['gender']]\n",
        "    if kwargs.get('age'):\n",
        "        rt_df = rt_df[rt_df['age'].isin(kwargs['age'])]\n",
        "    if kwargs.get('modal'):\n",
        "        rt_df = rt_df[rt_df['modal'].isin(kwargs['modal'])]\n",
        "    if kwargs.get('origin_purpose'):\n",
        "        rt_df = rt_df[rt_df['origin_purpose'].isin(kwargs['origin_purpose'])]\n",
        "    if kwargs.get('dest_purpose'):\n",
        "        rt_df = rt_df[rt_df['dest_purpose'].isin(kwargs['dest_purpose'])]\n",
        "    if kwargs.get('od_dist_avg'):\n",
        "        rt_df = rt_df[rt_df['od_dist_avg'].isin(kwargs['od_dist_avg'])]\n",
        "    if kwargs.get('od_duration_avg'):\n",
        "        rt_df = rt_df[rt_df['od_duration_avg'].isin(kwargs['od_duration_avg'])]\n",
        "    if kwargs.get('od_cnts'):\n",
        "        rt_df = rt_df[rt_df['od_cnts'].isin(kwargs['od_cnts'])]\n",
        "    if kwargs.get('custom_query'):\n",
        "        rt_df = rt_df\n",
        "    return rt_df"
      ],
      "metadata": {
        "id": "5R4hXYQZEs4V"
      },
      "execution_count": 100,
      "outputs": []
    },
    {
      "cell_type": "code",
      "source": [
        "# 전체 기간 날짜\n",
        "DATES = [f'09{x:02}' for x in range(1, 31)]\n",
        "DATES.extend([f'10{x:02}' for x in range(1, 16)])"
      ],
      "metadata": {
        "id": "x-wnuPqYFxvM"
      },
      "execution_count": 101,
      "outputs": []
    },
    {
      "cell_type": "code",
      "source": [
        "from datetime import datetime, timedelta\n",
        "from typing import Callable\n",
        "# 전체 od, 커스텀 쿼리\n",
        "def analyse(area_dict, groupby_method : Callable, all_dates = False):\n",
        "    areas = area_dict.keys()\n",
        "    for area in areas:\n",
        "        mined_data = pd.DataFrame()\n",
        "        fest_date = area_dict[area].split(' ')\n",
        "        fest = fest_date[0]\n",
        "        fest_date = fest_date[1:]\n",
        "        dates = []\n",
        "        start_date = datetime.strptime(fest_date[0], '%m%d')\n",
        "        end_date = datetime.strptime(fest_date[1], '%m%d')\n",
        "        current_date = start_date\n",
        "        while current_date <= end_date:\n",
        "            dates.append(current_date.strftime('%m%d'))\n",
        "            current_date += timedelta(days=1)\n",
        "        if all_dates:\n",
        "            dates = DATES\n",
        "        for date in dates:\n",
        "            rt_df = searcher(area=area, date=[date], dest_only=True)\n",
        "            if rt_df.empty:\n",
        "                continue\n",
        "            if groupby_method:\n",
        "                rt_df = groupby_method(rt_df)\n",
        "            mined_data = pd.concat([mined_data, rt_df])\n",
        "        analysis = groupby_method.__name__ if groupby_method else 'None'\n",
        "        ival = '_'.join(fest_date) if not all_dates else 'all'\n",
        "        mined_data.to_csv(f'mined_data/{fest}_{analysis}_{ival}.csv')\n"
      ],
      "metadata": {
        "id": "c3mJoM7B-RCt"
      },
      "execution_count": 102,
      "outputs": []
    },
    {
      "cell_type": "code",
      "source": [
        "def public_transport(rt_df):\n",
        "    # 4번 도보는 일단 대중교통으로 취급\n",
        "    car = rt_df[rt_df['modal'].isin([0])]\n",
        "    public = rt_df[~rt_df['modal'].isin([0])]\n",
        "    columns = ['car_cnt', 'car_net_duration', 'car_net_dist',\n",
        "                                    'car_avg_duration', 'car_avg_dist',\n",
        "                                    'public_cnt', 'public_duration', 'public_dist',\n",
        "                                    'public_avg_duration', 'public_avg_dist',\n",
        "                                    'net_cnt', 'avg_duration', 'avg_dist']\n",
        "    result = {}\n",
        "    result['car_cnt'] = car['od_cnts'].sum()\n",
        "    result['car_net_duration'] = (car['od_duration_avg']*car['od_cnts']).sum()\n",
        "    result['car_net_dist'] = (car['od_dist_avg']*car['od_cnts']).sum()\n",
        "    result['car_avg_duration'] = round(result['car_net_duration']/result['car_cnt'], 3) if result['car_cnt'] else 0\n",
        "    result['car_avg_dist'] = round(result['car_net_dist']/result['car_cnt'], 3)\n",
        "    result['public_cnt'] = public['od_cnts'].sum()\n",
        "    result['public_duration'] = (public['od_duration_avg']*public['od_cnts']).sum()\n",
        "    result['public_dist'] = (public['od_dist_avg']*public['od_cnts']).sum()\n",
        "    result['public_avg_duration'] = round(result['public_duration']/result['public_cnt'], 3) if result['public_cnt'] else 0\n",
        "    result['public_avg_dist'] = round(result['public_dist']/result['public_cnt'], 3) if result['public_cnt'] else 0\n",
        "    result['net_cnt'] = result['car_cnt'] + result['public_cnt']\n",
        "    result['avg_duration'] = round((result['car_net_duration'] + result['public_duration'])/result['net_cnt'], 3) if result['net_cnt'] else 0\n",
        "    result['avg_dist'] = round((result['car_net_dist'] + result['public_dist'])/result['net_cnt'], 3) if result['net_cnt'] else 0\n",
        "    return pd.DataFrame(data=result, index=rt_df['date'].unique())\n",
        "\n",
        ""
      ],
      "metadata": {
        "id": "Yr_GdpI5HgFT"
      },
      "execution_count": 103,
      "outputs": []
    },
    {
      "cell_type": "code",
      "source": [
        "def hourly_rate(rt_df):\n",
        "    temp = rt_df.drop('origin_hdong_cd', axis=1)\n",
        "    temp['od_dist'] = temp['od_dist_avg']*temp['od_cnts']\n",
        "    temp['od_duration'] = temp['od_duration_avg']*temp['od_cnts']\n",
        "    temp = temp.groupby(['end_time'])[['od_cnts', 'od_dist', 'od_duration']].sum()\n",
        "    temp['avg_dist'] = temp['od_dist']/temp['od_cnts']\n",
        "    temp['avg_duration'] = temp['od_duration']/temp['od_cnts']\n",
        "    temp['date'] = rt_df['date'].unique()[0]\n",
        "    temp = temp[['date', 'od_cnts',\n",
        "                 'od_dist', 'od_duration', 'avg_dist', 'avg_duration']]\n",
        "    return temp"
      ],
      "metadata": {
        "id": "Dccj8SmyQNDc"
      },
      "execution_count": 104,
      "outputs": []
    },
    {
      "cell_type": "code",
      "source": [
        "def inner_outer(rt_df):\n",
        "    # 같은 시: 앞 4자리 동일\n",
        "    si = 1000000\n",
        "    inner = rt_df[rt_df['origin_hdong_cd']//si==rt_df['dest_hdong_cd']//si]\n",
        "    outer = rt_df[rt_df['origin_hdong_cd']//si!=rt_df['dest_hdong_cd']//si]\n",
        "    # 수도권 = 서울 경기 인천\n",
        "    central_cd = [41, 28, 11]\n",
        "    central = rt_df[(rt_df['origin_hdong_cd']//(si*100)).isin(central_cd)]\n",
        "    result = {}\n",
        "    for df in [inner, outer, central]:\n",
        "        name = 'inner' if df is inner else 'outer' if df is outer else 'central'\n",
        "        result[name+'_cnt'] = df['od_cnts'].sum()\n",
        "        result[name+'_duration'] = (df['od_duration_avg']*df['od_cnts']).sum()\n",
        "        result[name+'_dist'] = (df['od_dist_avg']*df['od_cnts']).sum()\n",
        "        result[name+'_avg_duration'] = round(result[name+'_duration']/result[name+'_cnt'], 3) if result[name+'_cnt'] else 0\n",
        "        result[name+'_avg_dist'] = round(result[name+'_dist']/result[name+'_cnt'], 3) if result[name+'_cnt'] else 0\n",
        "        result[name+'_unique'] = df['origin_hdong_cd'].nunique()\n",
        "    result['net_cnt'] = rt_df['od_cnts'].sum()\n",
        "    result['inner_ratio'] = round(result['inner_cnt']/result['net_cnt'], 3)\n",
        "    result['outer_ratio'] = round(result['outer_cnt']/result['net_cnt'], 3)\n",
        "    result['central_ratio'] = round(result['central_cnt']/result['net_cnt'], 3)\n",
        "\n",
        "    return pd.DataFrame(data=result, index=rt_df['date'].unique())"
      ],
      "metadata": {
        "id": "Ux7CpxOcTg9A"
      },
      "execution_count": 105,
      "outputs": []
    },
    {
      "cell_type": "code",
      "source": [
        "# 분석할 축제 리스트\n",
        "# 축제가 일어나는 지역 : 축제명 시작일 종료일\n",
        "# 지역이 아주 정확할 필요는 없음: 강원-춘천시-강남동 이 정도도 굴러는감\n",
        "areas = {\n",
        "    '강원특별자치도_춘천시_강남동_삼천동': '춘천술페스타 0922 0923',\n",
        "    '강원특별자치도_원주시_명륜1동_명륜동': '원주댄싱카니발 0922 0924',\n",
        "    #'강원특별자치도_원주시_중앙동_중앙동': '원주치맥축제 0904 0907',\n",
        "    '강원특별자치도_평창군_용평면_장평리': '평창농악축제 0915 0918',\n",
        "    '강원특별자치도_동해시_천곡동_천곡동': '동해무릉제 0922 0924',\n",
        "    #'강원특별자치도_횡성군_횡성읍_북천리': '횡성한우축제 1006 1010',\n",
        "    '강원특별자치도_횡성군_청일면_유동리': '횡성더덕축제 0915 0917',\n",
        "    '강원특별자치도_정선군_정선읍_봉양리': '정선아리랑제 0914 0917',\n",
        "    #'강원특별자치도_속초시_조양동_조양동': '설악문화제 1006 1008',\n",
        "}\n"
      ],
      "metadata": {
        "id": "JnZmNCnnF5K0"
      },
      "execution_count": 106,
      "outputs": []
    },
    {
      "cell_type": "code",
      "source": [
        "analyse(areas, public_transport)"
      ],
      "metadata": {
        "id": "IUxzbQHaHsCZ"
      },
      "execution_count": 107,
      "outputs": []
    },
    {
      "cell_type": "code",
      "source": [
        "analyse(areas, hourly_rate)"
      ],
      "metadata": {
        "id": "hE9nETdXTOnS"
      },
      "execution_count": 108,
      "outputs": []
    },
    {
      "cell_type": "code",
      "source": [
        "analyse(areas, inner_outer)"
      ],
      "metadata": {
        "id": "9BV74hl0Tfy1"
      },
      "execution_count": 109,
      "outputs": []
    },
    {
      "cell_type": "code",
      "source": [
        "!zip mined_data.zip mined_data/*"
      ],
      "metadata": {
        "colab": {
          "base_uri": "https://localhost:8080/"
        },
        "id": "Hpb4RqTqgYJB",
        "outputId": "fdb3f0bf-f5c9-4ac5-9d0f-77e3c0fb4fd0"
      },
      "execution_count": 110,
      "outputs": [
        {
          "output_type": "stream",
          "name": "stdout",
          "text": [
            "  adding: mined_data/정선아리랑제_hourly_rate_0914_0917.csv (deflated 56%)\n",
            "  adding: mined_data/횡성더덕축제_hourly_rate_0915_0917.csv (deflated 56%)\n",
            "  adding: mined_data/평창농악축제_hourly_rate_0915_0918.csv (deflated 57%)\n",
            "  adding: mined_data/춘천술페스타_hourly_rate_0922_0923.csv (deflated 55%)\n",
            "  adding: mined_data/원주댄싱카니발_hourly_rate_0922_0924.csv (deflated 56%)\n",
            "  adding: mined_data/동해무릉제_hourly_rate_0922_0924.csv (deflated 53%)\n",
            "  adding: mined_data/정선아리랑제_inner_outer_0914_0917.csv (deflated 53%)\n",
            "  adding: mined_data/횡성더덕축제_inner_outer_0915_0917.csv (deflated 54%)\n",
            "  adding: mined_data/평창농악축제_inner_outer_0915_0918.csv (deflated 53%)\n",
            "  adding: mined_data/춘천술페스타_inner_outer_0922_0923.csv (deflated 55%)\n",
            "  adding: mined_data/원주댄싱카니발_inner_outer_0922_0924.csv (deflated 54%)\n",
            "  adding: mined_data/동해무릉제_inner_outer_0922_0924.csv (deflated 53%)\n",
            "  adding: mined_data/정선아리랑제_public_transport_0914_0917.csv (deflated 51%)\n",
            "  adding: mined_data/횡성더덕축제_public_transport_0915_0917.csv (deflated 49%)\n",
            "  adding: mined_data/평창농악축제_public_transport_0915_0918.csv (deflated 53%)\n",
            "  adding: mined_data/춘천술페스타_public_transport_0922_0923.csv (deflated 49%)\n",
            "  adding: mined_data/원주댄싱카니발_public_transport_0922_0924.csv (deflated 49%)\n",
            "  adding: mined_data/동해무릉제_public_transport_0922_0924.csv (deflated 50%)\n"
          ]
        }
      ]
    }
  ]
}