{
  "nbformat": 4,
  "nbformat_minor": 0,
  "metadata": {
    "colab": {
      "provenance": []
    },
    "kernelspec": {
      "name": "python3",
      "display_name": "Python 3"
    },
    "language_info": {
      "name": "python"
    }
  },
  "cells": [
    {
      "cell_type": "code",
      "execution_count": null,
      "metadata": {
        "id": "hHDypFtE7D9R"
      },
      "outputs": [],
      "source": [
        "import json\n",
        "import numpy as np\n",
        "import matplotlib.pyplot as plt\n",
        "import geopandas as gpd\n",
        "import pandas as pd\n",
        "from shapely.geometry import LineString\n",
        "import os\n",
        "\n",
        "if not os.path.exists('mined_data_stay'):\n",
        "    os.mkdir('mined_data_stay')\n",
        "if not os.path.exists('raw_data'):\n",
        "    os.mkdir('raw_data')"
      ]
    },
    {
      "cell_type": "code",
      "source": [
        "given_keys = pd.read_csv('geoshp/KIKmix_20230701.csv')\n",
        "given_keys.set_index('법정동코드', inplace=True)\n",
        "folder_path = 'raw_data'\n",
        "DFS = {}\n",
        "for folder in os.listdir(folder_path):\n",
        "    if not os.path.isdir(os.path.join(folder_path, folder)):\n",
        "        continue\n",
        "    if folder.startswith('od'):\n",
        "        continue\n",
        "    temp_path = os.path.join(folder_path, folder)\n",
        "    for filename in os.listdir(temp_path):\n",
        "        if filename.endswith(\".csv\"):\n",
        "            filepath = os.path.join(temp_path, filename)\n",
        "            df_name = os.path.splitext(filename)[0]  # Remove file extension\n",
        "            DFS[df_name] = pd.read_csv(filepath)\n",
        "            print(df_name)"
      ],
      "metadata": {
        "id": "QOejjhtI7LRG"
      },
      "execution_count": null,
      "outputs": []
    },
    {
      "cell_type": "code",
      "source": [
        "# 검색기 함수\n",
        "# area: 시도명_시군구명_읍면동명_동리명 : 끝까지 안 채워도 됨\n",
        "# 예: 서울특별시_종로구_청운효자동_청운동: O\n",
        "# 예: 서울특별시: O\n",
        "# 예: 서울특별시_종로구_청운동: X\n",
        "# date: MMDD 4개 숫자 붙여서 문자열 숫자 1개여도 리스트로 전달.\n",
        "# keywords = ori_only, dest_only, start_time, end_time, gender: 동일\n",
        "# age, modal, origin_purpose, dest_purpose, od_dist_avg, : 범위(리스트, range)\n",
        "# od_duration_avg, od_cnts : 범위(list, range)\n",
        "\n",
        "\n",
        "def searcher(**kwargs):\n",
        "    target_dfs = []\n",
        "    target_codes = None\n",
        "    rt_df = pd.DataFrame()\n",
        "    if not kwargs:\n",
        "        print(\"No arguments provided\")\n",
        "        return target_dfs\n",
        "    if kwargs.get('area'):\n",
        "        parsed = kwargs['area'].split('_')\n",
        "        if parsed[2].endswith('구'):\n",
        "            parsed[1] = ' '.join([parsed[1], parsed[2]])\n",
        "            parsed.pop(2)\n",
        "        tempdf = given_keys.reset_index()\n",
        "        for item in parsed:\n",
        "            tempdf = tempdf[tempdf.eq(item).any(axis=1)]\n",
        "        target_codes = tempdf['법정동코드'].values.tolist()\n",
        "        target_codes = set(target_codes)\n",
        "        target_codes.update(tempdf['행정동코드'].values.tolist())\n",
        "    if kwargs.get('date'):\n",
        "        for date in kwargs['date']:\n",
        "            target_dfs.append(DFS['stay_2023'+date+'_1'])\n",
        "    else:\n",
        "        target_dfs = DFS.values()\n",
        "    for item in target_dfs:\n",
        "        if target_codes:\n",
        "            query = item['hdong_cd'].isin(target_codes)\n",
        "            temp = item[query]\n",
        "            rt_df = pd.concat([rt_df, temp])\n",
        "        else:\n",
        "            rt_df = pd.concat([rt_df, item])\n",
        "    if kwargs.get('time'):\n",
        "        rt_df = rt_df[rt_df['time'].str.startswith(kwargs['time'])]\n",
        "    if kwargs.get('gender'):\n",
        "        rt_df = rt_df[rt_df['gender'] == kwargs['gender']]\n",
        "    if kwargs.get('age'):\n",
        "        rt_df = rt_df[rt_df['age'].isin(kwargs['age'])]\n",
        "    if kwargs.get('purpose'):\n",
        "        rt_df = rt_df[rt_df['purpose'].isin(kwargs['purpose'])]\n",
        "    if kwargs.get('stay_cnts'):\n",
        "        rt_df = rt_df[rt_df['od_cnts'].isin(kwargs['od_cnts'])]\n",
        "    if kwargs.get('custom_query'):\n",
        "        rt_df = rt_df\n",
        "    return rt_df"
      ],
      "metadata": {
        "id": "OOMROw4X7M9o"
      },
      "execution_count": null,
      "outputs": []
    },
    {
      "cell_type": "code",
      "source": [
        "# 전체 기간 날짜\n",
        "DATES = [f'09{x:02}' for x in range(1, 31)]\n",
        "DATES.extend([f'10{x:02}' for x in range(1, 16)])"
      ],
      "metadata": {
        "id": "oFcbkhZp7r-8"
      },
      "execution_count": null,
      "outputs": []
    },
    {
      "cell_type": "code",
      "source": [
        "from datetime import datetime, timedelta\n",
        "from typing import Callable\n",
        "# 전체 od, 커스텀 쿼리\n",
        "def analyse(area_dict, groupby_method : Callable, all_dates = False):\n",
        "    areas = area_dict.keys()\n",
        "    for area in areas:\n",
        "        mined_data = pd.DataFrame()\n",
        "        fest_date = area_dict[area].split(' ')\n",
        "        fest = fest_date[0]\n",
        "        fest_date = fest_date[1:]\n",
        "        dates = []\n",
        "        start_date = datetime.strptime(fest_date[0], '%m%d')\n",
        "        end_date = datetime.strptime(fest_date[1], '%m%d')\n",
        "        current_date = start_date\n",
        "        while current_date <= end_date:\n",
        "            dates.append(current_date.strftime('%m%d'))\n",
        "            current_date += timedelta(days=1)\n",
        "        if all_dates:\n",
        "            dates = DATES\n",
        "        for date in dates:\n",
        "            rt_df = searcher(area=area, date=[date])\n",
        "            if rt_df.empty:\n",
        "                continue\n",
        "            if groupby_method:\n",
        "                rt_df = groupby_method(rt_df)\n",
        "            mined_data = pd.concat([mined_data, rt_df])\n",
        "        analysis = groupby_method.__name__ if groupby_method else 'None'\n",
        "        ival = '_'.join(fest_date) if not all_dates else 'all'\n",
        "        mined_data.to_csv(f'mined_data_stay/{fest}_{analysis}_{ival}.csv')\n"
      ],
      "metadata": {
        "id": "OwvZAUEY7tGr"
      },
      "execution_count": null,
      "outputs": []
    },
    {
      "cell_type": "code",
      "source": [
        "def hourly_rate(rt_df):\n",
        "    temp = rt_df.drop('hdong_cd', axis=1)\n",
        "    temp = temp.groupby(['time'])[['stay_cnts']].sum().reset_index()\n",
        "    temp['date'] = rt_df['date'].unique()[0]\n",
        "    return temp"
      ],
      "metadata": {
        "id": "wOYSRoUe7wwd"
      },
      "execution_count": null,
      "outputs": []
    },
    {
      "cell_type": "code",
      "source": [
        "def gender(rt_df):\n",
        "    temp = rt_df.drop('hdong_cd', axis=1)\n",
        "    temp = temp.groupby(['gender'])[['stay_cnts']].sum().reset_index()\n",
        "    temp['date'] = rt_df['date'].unique()[0]\n",
        "    return temp"
      ],
      "metadata": {
        "id": "QrN03QTo9PF4"
      },
      "execution_count": null,
      "outputs": []
    },
    {
      "cell_type": "code",
      "source": [
        "def age(rt_df):\n",
        "    temp = rt_df.drop('hdong_cd', axis=1)\n",
        "    temp = temp.groupby(['age'])[['stay_cnts']].sum().reset_index()\n",
        "    temp['date'] = rt_df['date'].unique()[0]\n",
        "    return temp"
      ],
      "metadata": {
        "id": "3D9388KW9dtJ"
      },
      "execution_count": null,
      "outputs": []
    },
    {
      "cell_type": "code",
      "source": [
        "# 분석할 축제 리스트\n",
        "# 축제가 일어나는 지역 : 축제명 시작일 종료일\n",
        "# 지역이 아주 정확할 필요는 없음: 강원-춘천시-강남동 이 정도도 굴러는감\n",
        "areas = {\n",
        "    '강원특별자치도_춘천시_강남동_삼천동': '춘천술페스타 0922 0923',\n",
        "    '강원특별자치도_원주시_명륜1동_명륜동': '원주댄싱카니발 0922 0924',\n",
        "    #'강원특별자치도_원주시_중앙동_중앙동': '원주치맥축제 0904 0907',\n",
        "    '강원특별자치도_평창군_용평면_장평리': '평창농악축제 0915 0918',\n",
        "    '강원특별자치도_동해시_천곡동_천곡동': '동해무릉제 0922 0924',\n",
        "    #'강원특별자치도_횡성군_횡성읍_북천리': '횡성한우축제 1006 1010',\n",
        "    '강원특별자치도_횡성군_청일면_유동리': '횡성더덕축제 0915 0917',\n",
        "    '강원특별자치도_정선군_정선읍_봉양리': '정선아리랑제 0914 0917',\n",
        "    #'강원특별자치도_속초시_조양동_조양동': '설악문화제 1006 1008',\n",
        "}\n"
      ],
      "metadata": {
        "id": "Jo5lxXv67wsB"
      },
      "execution_count": null,
      "outputs": []
    },
    {
      "cell_type": "code",
      "source": [
        "analyse(areas, hourly_rate, all_dates=True)\n"
      ],
      "metadata": {
        "id": "OFj_5O5u97GG"
      },
      "execution_count": null,
      "outputs": []
    }
  ]
}